{
  "nbformat": 4,
  "nbformat_minor": 0,
  "metadata": {
    "colab": {
      "provenance": []
    },
    "kernelspec": {
      "name": "python3",
      "display_name": "Python 3"
    },
    "language_info": {
      "name": "python"
    }
  },
  "cells": [
    {
      "cell_type": "code",
      "execution_count": 65,
      "metadata": {
        "id": "s58vsMT6ZJwW"
      },
      "outputs": [],
      "source": [
        "import tensorflow as tf\n",
        "import numpy as np\n",
        "import matplotlib.pyplot as plt\n",
        "import pandas as pd\n",
        "from sklearn.model_selection import train_test_split\n",
        "from keras.models import Sequential\n",
        "from keras.layers import Dense\n",
        "from keras.layers import LSTM\n",
        "from keras.layers import Bidirectional\n",
        "from sklearn.metrics import accuracy_score\n",
        "from keras.callbacks import EarlyStopping\n",
        "from keras.layers import Embedding\n",
        "from keras.layers import GRU\n",
        "from keras.layers import Reshape"
      ]
    },
    {
      "cell_type": "code",
      "source": [
        "from re import X\n",
        "data = pd.read_csv('data (2).csv')\n",
        "X = data[data.columns[1:]]\n",
        "Y = data[data.columns[0]].apply(lambda x: 1 if x == 'c' else 0)\n",
        "X_train, X_test, Y_train, Y_test = train_test_split(X, Y, test_size=0.15, random_state=42)\n",
        "callback = EarlyStopping(monitor='val_loss',patience=10)"
      ],
      "metadata": {
        "id": "nj-pDTdhZTYH"
      },
      "execution_count": 94,
      "outputs": []
    },
    {
      "cell_type": "markdown",
      "source": [
        "### **Nerual Network**"
      ],
      "metadata": {
        "id": "ceGdmlyDN2hW"
      }
    },
    {
      "cell_type": "code",
      "source": [
        "model = Sequential()\n",
        "model.add(Dense(126, input_dim=5032, activation='relu'))\n",
        "model.add(Dense(256, activation='relu'))\n",
        "\n",
        "model.add(Dense(1, activation='sigmoid'))\n",
        "model.compile(loss='binary_crossentropy', optimizer='adam',metrics = ['accuracy'])\n",
        "model.fit(X_train, Y_train, epochs =25,validation_split = .15, callbacks=[callback])"
      ],
      "metadata": {
        "colab": {
          "base_uri": "https://localhost:8080/"
        },
        "id": "PDvYpiVUlzqN",
        "outputId": "beebdd1a-48ed-48fc-cf99-c65c994de32d"
      },
      "execution_count": 95,
      "outputs": [
        {
          "output_type": "stream",
          "name": "stdout",
          "text": [
            "Epoch 1/25\n",
            "3/3 [==============================] - 1s 119ms/step - loss: 0.6306 - accuracy: 0.5735 - val_loss: 0.4269 - val_accuracy: 0.9167\n",
            "Epoch 2/25\n",
            "3/3 [==============================] - 0s 23ms/step - loss: 0.4163 - accuracy: 0.8235 - val_loss: 0.4367 - val_accuracy: 0.8333\n",
            "Epoch 3/25\n",
            "3/3 [==============================] - 0s 22ms/step - loss: 0.3903 - accuracy: 0.8382 - val_loss: 0.4304 - val_accuracy: 0.8333\n",
            "Epoch 4/25\n",
            "3/3 [==============================] - 0s 24ms/step - loss: 0.3184 - accuracy: 0.8529 - val_loss: 0.5514 - val_accuracy: 0.8333\n",
            "Epoch 5/25\n",
            "3/3 [==============================] - 0s 25ms/step - loss: 0.2876 - accuracy: 0.9118 - val_loss: 0.4804 - val_accuracy: 0.8333\n",
            "Epoch 6/25\n",
            "3/3 [==============================] - 0s 23ms/step - loss: 0.2348 - accuracy: 0.8824 - val_loss: 0.4507 - val_accuracy: 0.8333\n",
            "Epoch 7/25\n",
            "3/3 [==============================] - 0s 28ms/step - loss: 0.1786 - accuracy: 0.9412 - val_loss: 0.6781 - val_accuracy: 0.7500\n",
            "Epoch 8/25\n",
            "3/3 [==============================] - 0s 22ms/step - loss: 0.1970 - accuracy: 0.9118 - val_loss: 0.5344 - val_accuracy: 0.7500\n",
            "Epoch 9/25\n",
            "3/3 [==============================] - 0s 20ms/step - loss: 0.1238 - accuracy: 0.9706 - val_loss: 0.4300 - val_accuracy: 0.7500\n",
            "Epoch 10/25\n",
            "3/3 [==============================] - 0s 22ms/step - loss: 0.0956 - accuracy: 0.9853 - val_loss: 0.5626 - val_accuracy: 0.7500\n",
            "Epoch 11/25\n",
            "3/3 [==============================] - 0s 22ms/step - loss: 0.0810 - accuracy: 0.9853 - val_loss: 0.2905 - val_accuracy: 0.7500\n",
            "Epoch 12/25\n",
            "3/3 [==============================] - 0s 22ms/step - loss: 0.0807 - accuracy: 0.9706 - val_loss: 0.2896 - val_accuracy: 0.8333\n",
            "Epoch 13/25\n",
            "3/3 [==============================] - 0s 24ms/step - loss: 0.0476 - accuracy: 0.9853 - val_loss: 0.5379 - val_accuracy: 0.7500\n",
            "Epoch 14/25\n",
            "3/3 [==============================] - 0s 22ms/step - loss: 0.0660 - accuracy: 0.9853 - val_loss: 0.1669 - val_accuracy: 1.0000\n",
            "Epoch 15/25\n",
            "3/3 [==============================] - 0s 22ms/step - loss: 0.0406 - accuracy: 1.0000 - val_loss: 0.1860 - val_accuracy: 0.9167\n",
            "Epoch 16/25\n",
            "3/3 [==============================] - 0s 23ms/step - loss: 0.0456 - accuracy: 0.9853 - val_loss: 0.7933 - val_accuracy: 0.6667\n",
            "Epoch 17/25\n",
            "3/3 [==============================] - 0s 21ms/step - loss: 0.0606 - accuracy: 0.9706 - val_loss: 0.6329 - val_accuracy: 0.8333\n",
            "Epoch 18/25\n",
            "3/3 [==============================] - 0s 21ms/step - loss: 0.0217 - accuracy: 1.0000 - val_loss: 0.1637 - val_accuracy: 0.9167\n",
            "Epoch 19/25\n",
            "3/3 [==============================] - 0s 21ms/step - loss: 0.0274 - accuracy: 0.9853 - val_loss: 0.1204 - val_accuracy: 1.0000\n",
            "Epoch 20/25\n",
            "3/3 [==============================] - 0s 23ms/step - loss: 0.0121 - accuracy: 1.0000 - val_loss: 0.3868 - val_accuracy: 0.8333\n",
            "Epoch 21/25\n",
            "3/3 [==============================] - 0s 21ms/step - loss: 0.0243 - accuracy: 0.9853 - val_loss: 0.2100 - val_accuracy: 0.9167\n",
            "Epoch 22/25\n",
            "3/3 [==============================] - 0s 30ms/step - loss: 0.0086 - accuracy: 1.0000 - val_loss: 0.1472 - val_accuracy: 0.8333\n",
            "Epoch 23/25\n",
            "3/3 [==============================] - 0s 35ms/step - loss: 0.0747 - accuracy: 0.9559 - val_loss: 0.0985 - val_accuracy: 0.9167\n",
            "Epoch 24/25\n",
            "3/3 [==============================] - 0s 26ms/step - loss: 0.0108 - accuracy: 1.0000 - val_loss: 0.5997 - val_accuracy: 0.8333\n",
            "Epoch 25/25\n",
            "3/3 [==============================] - 0s 20ms/step - loss: 0.0234 - accuracy: 0.9853 - val_loss: 0.6522 - val_accuracy: 0.8333\n"
          ]
        },
        {
          "output_type": "execute_result",
          "data": {
            "text/plain": [
              "<keras.src.callbacks.History at 0x7bdf1d319a80>"
            ]
          },
          "metadata": {},
          "execution_count": 95
        }
      ]
    },
    {
      "cell_type": "markdown",
      "source": [
        "### **Reucrent Nerual Network**"
      ],
      "metadata": {
        "id": "2e4h3afuN_Mp"
      }
    },
    {
      "cell_type": "code",
      "source": [
        "modelR = Sequential()\n",
        "modelR.add(Reshape((68,74), input_shape=(5032,)))\n",
        "modelR.add(Bidirectional(LSTM(200, return_sequences=True,activation='tanh')))\n",
        "modelR.add(Bidirectional(LSTM(200,activation='tanh')))\n",
        "modelR.add(Dense(256, activation='relu'))\n",
        "modelR.add(Dense(1, activation='sigmoid'))\n",
        "modelR.compile(loss='binary_crossentropy', optimizer='adam',metrics = ['accuracy'])\n",
        "modelR.fit(X_train, Y_train, epochs =25,validation_split = .15,callbacks=[callback])"
      ],
      "metadata": {
        "colab": {
          "base_uri": "https://localhost:8080/"
        },
        "id": "igww18CTaWyH",
        "outputId": "423a7f5a-5d4d-4206-94bd-af8c1df4b32e"
      },
      "execution_count": 96,
      "outputs": [
        {
          "output_type": "stream",
          "name": "stdout",
          "text": [
            "Epoch 1/25\n",
            "3/3 [==============================] - 11s 1s/step - loss: 0.6831 - accuracy: 0.5294 - val_loss: 0.7882 - val_accuracy: 0.4167\n",
            "Epoch 2/25\n",
            "3/3 [==============================] - 2s 772ms/step - loss: 0.6565 - accuracy: 0.6324 - val_loss: 0.6932 - val_accuracy: 0.4167\n",
            "Epoch 3/25\n",
            "3/3 [==============================] - 3s 1s/step - loss: 0.6272 - accuracy: 0.6471 - val_loss: 0.7996 - val_accuracy: 0.4167\n",
            "Epoch 4/25\n",
            "3/3 [==============================] - 2s 583ms/step - loss: 0.6271 - accuracy: 0.6471 - val_loss: 0.8348 - val_accuracy: 0.4167\n",
            "Epoch 5/25\n",
            "3/3 [==============================] - 2s 573ms/step - loss: 0.6054 - accuracy: 0.6471 - val_loss: 0.6594 - val_accuracy: 0.7500\n",
            "Epoch 6/25\n",
            "3/3 [==============================] - 2s 575ms/step - loss: 0.5984 - accuracy: 0.8382 - val_loss: 0.6461 - val_accuracy: 0.6667\n",
            "Epoch 7/25\n",
            "3/3 [==============================] - 2s 576ms/step - loss: 0.5439 - accuracy: 0.7500 - val_loss: 0.7212 - val_accuracy: 0.4167\n",
            "Epoch 8/25\n",
            "3/3 [==============================] - 2s 604ms/step - loss: 0.4755 - accuracy: 0.8235 - val_loss: 0.5416 - val_accuracy: 0.7500\n",
            "Epoch 9/25\n",
            "3/3 [==============================] - 3s 956ms/step - loss: 0.3883 - accuracy: 0.8824 - val_loss: 0.6346 - val_accuracy: 0.7500\n",
            "Epoch 10/25\n",
            "3/3 [==============================] - 3s 796ms/step - loss: 0.4220 - accuracy: 0.8382 - val_loss: 0.5508 - val_accuracy: 0.7500\n",
            "Epoch 11/25\n",
            "3/3 [==============================] - 2s 583ms/step - loss: 0.3265 - accuracy: 0.8971 - val_loss: 0.7623 - val_accuracy: 0.7500\n",
            "Epoch 12/25\n",
            "3/3 [==============================] - 2s 591ms/step - loss: 0.3918 - accuracy: 0.8235 - val_loss: 0.4471 - val_accuracy: 0.8333\n",
            "Epoch 13/25\n",
            "3/3 [==============================] - 2s 583ms/step - loss: 0.3531 - accuracy: 0.8529 - val_loss: 0.4300 - val_accuracy: 0.8333\n",
            "Epoch 14/25\n",
            "3/3 [==============================] - 2s 562ms/step - loss: 0.3248 - accuracy: 0.8971 - val_loss: 0.4889 - val_accuracy: 0.7500\n",
            "Epoch 15/25\n",
            "3/3 [==============================] - 2s 583ms/step - loss: 0.3005 - accuracy: 0.9118 - val_loss: 0.3661 - val_accuracy: 0.8333\n",
            "Epoch 16/25\n",
            "3/3 [==============================] - 3s 968ms/step - loss: 0.2523 - accuracy: 0.8971 - val_loss: 0.7414 - val_accuracy: 0.7500\n",
            "Epoch 17/25\n",
            "3/3 [==============================] - 2s 616ms/step - loss: 0.3036 - accuracy: 0.8824 - val_loss: 0.3226 - val_accuracy: 0.9167\n",
            "Epoch 18/25\n",
            "3/3 [==============================] - 2s 590ms/step - loss: 0.1638 - accuracy: 0.9412 - val_loss: 0.5963 - val_accuracy: 0.7500\n",
            "Epoch 19/25\n",
            "3/3 [==============================] - 2s 562ms/step - loss: 0.1554 - accuracy: 0.9265 - val_loss: 0.9764 - val_accuracy: 0.7500\n",
            "Epoch 20/25\n",
            "3/3 [==============================] - 2s 573ms/step - loss: 0.5990 - accuracy: 0.8382 - val_loss: 1.3289 - val_accuracy: 0.4167\n",
            "Epoch 21/25\n",
            "3/3 [==============================] - 2s 578ms/step - loss: 0.5242 - accuracy: 0.7647 - val_loss: 0.4547 - val_accuracy: 0.7500\n",
            "Epoch 22/25\n",
            "3/3 [==============================] - 2s 582ms/step - loss: 0.4499 - accuracy: 0.7647 - val_loss: 0.5784 - val_accuracy: 0.7500\n",
            "Epoch 23/25\n",
            "3/3 [==============================] - 3s 1s/step - loss: 0.3367 - accuracy: 0.8971 - val_loss: 0.3591 - val_accuracy: 0.8333\n",
            "Epoch 24/25\n",
            "3/3 [==============================] - 2s 570ms/step - loss: 0.2537 - accuracy: 0.9412 - val_loss: 0.3914 - val_accuracy: 0.8333\n",
            "Epoch 25/25\n",
            "3/3 [==============================] - 2s 585ms/step - loss: 0.5069 - accuracy: 0.8088 - val_loss: 0.3419 - val_accuracy: 0.9167\n"
          ]
        },
        {
          "output_type": "execute_result",
          "data": {
            "text/plain": [
              "<keras.src.callbacks.History at 0x7bdf1dabf940>"
            ]
          },
          "metadata": {},
          "execution_count": 96
        }
      ]
    },
    {
      "cell_type": "code",
      "source": [
        "from sklearn import svm\n"
      ],
      "metadata": {
        "id": "o8P9l63pkoyH"
      },
      "execution_count": 97,
      "outputs": []
    },
    {
      "cell_type": "code",
      "source": [
        "clf = svm.SVC()\n",
        "clf.fit(X_train, Y_train)"
      ],
      "metadata": {
        "colab": {
          "base_uri": "https://localhost:8080/",
          "height": 75
        },
        "id": "QjF1gl25kwsX",
        "outputId": "2bad53e7-566f-4037-aa7b-8ad740c0589b"
      },
      "execution_count": 98,
      "outputs": [
        {
          "output_type": "execute_result",
          "data": {
            "text/plain": [
              "SVC()"
            ],
            "text/html": [
              "<style>#sk-container-id-5 {color: black;background-color: white;}#sk-container-id-5 pre{padding: 0;}#sk-container-id-5 div.sk-toggleable {background-color: white;}#sk-container-id-5 label.sk-toggleable__label {cursor: pointer;display: block;width: 100%;margin-bottom: 0;padding: 0.3em;box-sizing: border-box;text-align: center;}#sk-container-id-5 label.sk-toggleable__label-arrow:before {content: \"▸\";float: left;margin-right: 0.25em;color: #696969;}#sk-container-id-5 label.sk-toggleable__label-arrow:hover:before {color: black;}#sk-container-id-5 div.sk-estimator:hover label.sk-toggleable__label-arrow:before {color: black;}#sk-container-id-5 div.sk-toggleable__content {max-height: 0;max-width: 0;overflow: hidden;text-align: left;background-color: #f0f8ff;}#sk-container-id-5 div.sk-toggleable__content pre {margin: 0.2em;color: black;border-radius: 0.25em;background-color: #f0f8ff;}#sk-container-id-5 input.sk-toggleable__control:checked~div.sk-toggleable__content {max-height: 200px;max-width: 100%;overflow: auto;}#sk-container-id-5 input.sk-toggleable__control:checked~label.sk-toggleable__label-arrow:before {content: \"▾\";}#sk-container-id-5 div.sk-estimator input.sk-toggleable__control:checked~label.sk-toggleable__label {background-color: #d4ebff;}#sk-container-id-5 div.sk-label input.sk-toggleable__control:checked~label.sk-toggleable__label {background-color: #d4ebff;}#sk-container-id-5 input.sk-hidden--visually {border: 0;clip: rect(1px 1px 1px 1px);clip: rect(1px, 1px, 1px, 1px);height: 1px;margin: -1px;overflow: hidden;padding: 0;position: absolute;width: 1px;}#sk-container-id-5 div.sk-estimator {font-family: monospace;background-color: #f0f8ff;border: 1px dotted black;border-radius: 0.25em;box-sizing: border-box;margin-bottom: 0.5em;}#sk-container-id-5 div.sk-estimator:hover {background-color: #d4ebff;}#sk-container-id-5 div.sk-parallel-item::after {content: \"\";width: 100%;border-bottom: 1px solid gray;flex-grow: 1;}#sk-container-id-5 div.sk-label:hover label.sk-toggleable__label {background-color: #d4ebff;}#sk-container-id-5 div.sk-serial::before {content: \"\";position: absolute;border-left: 1px solid gray;box-sizing: border-box;top: 0;bottom: 0;left: 50%;z-index: 0;}#sk-container-id-5 div.sk-serial {display: flex;flex-direction: column;align-items: center;background-color: white;padding-right: 0.2em;padding-left: 0.2em;position: relative;}#sk-container-id-5 div.sk-item {position: relative;z-index: 1;}#sk-container-id-5 div.sk-parallel {display: flex;align-items: stretch;justify-content: center;background-color: white;position: relative;}#sk-container-id-5 div.sk-item::before, #sk-container-id-5 div.sk-parallel-item::before {content: \"\";position: absolute;border-left: 1px solid gray;box-sizing: border-box;top: 0;bottom: 0;left: 50%;z-index: -1;}#sk-container-id-5 div.sk-parallel-item {display: flex;flex-direction: column;z-index: 1;position: relative;background-color: white;}#sk-container-id-5 div.sk-parallel-item:first-child::after {align-self: flex-end;width: 50%;}#sk-container-id-5 div.sk-parallel-item:last-child::after {align-self: flex-start;width: 50%;}#sk-container-id-5 div.sk-parallel-item:only-child::after {width: 0;}#sk-container-id-5 div.sk-dashed-wrapped {border: 1px dashed gray;margin: 0 0.4em 0.5em 0.4em;box-sizing: border-box;padding-bottom: 0.4em;background-color: white;}#sk-container-id-5 div.sk-label label {font-family: monospace;font-weight: bold;display: inline-block;line-height: 1.2em;}#sk-container-id-5 div.sk-label-container {text-align: center;}#sk-container-id-5 div.sk-container {/* jupyter's `normalize.less` sets `[hidden] { display: none; }` but bootstrap.min.css set `[hidden] { display: none !important; }` so we also need the `!important` here to be able to override the default hidden behavior on the sphinx rendered scikit-learn.org. See: https://github.com/scikit-learn/scikit-learn/issues/21755 */display: inline-block !important;position: relative;}#sk-container-id-5 div.sk-text-repr-fallback {display: none;}</style><div id=\"sk-container-id-5\" class=\"sk-top-container\"><div class=\"sk-text-repr-fallback\"><pre>SVC()</pre><b>In a Jupyter environment, please rerun this cell to show the HTML representation or trust the notebook. <br />On GitHub, the HTML representation is unable to render, please try loading this page with nbviewer.org.</b></div><div class=\"sk-container\" hidden><div class=\"sk-item\"><div class=\"sk-estimator sk-toggleable\"><input class=\"sk-toggleable__control sk-hidden--visually\" id=\"sk-estimator-id-5\" type=\"checkbox\" checked><label for=\"sk-estimator-id-5\" class=\"sk-toggleable__label sk-toggleable__label-arrow\">SVC</label><div class=\"sk-toggleable__content\"><pre>SVC()</pre></div></div></div></div></div>"
            ]
          },
          "metadata": {},
          "execution_count": 98
        }
      ]
    },
    {
      "cell_type": "markdown",
      "source": [
        "### **Preformance n test**"
      ],
      "metadata": {
        "id": "EPdTueWWC4uK"
      }
    },
    {
      "cell_type": "code",
      "source": [
        "Y_pred_NN = [1 if a > 0.5 else 0 for a in model.predict(X_test)]\n",
        "print(\"NN:\",accuracy_score(Y_test,Y_pred_NN))\n",
        "\n",
        "Y_pred_LSTM = [1 if a > 0.5 else 0 for a in modelR.predict(X_test)]\n",
        "print(\"LSTM:\",accuracy_score(Y_test,Y_pred_LSTM))\n",
        "\n",
        "Y_pred_svm = clf.predict(X_test)\n",
        "print(\"SVM:\",accuracy_score(Y_test,Y_pred_svm))"
      ],
      "metadata": {
        "colab": {
          "base_uri": "https://localhost:8080/"
        },
        "id": "fyS02Ld1k10p",
        "outputId": "8f0276a1-8d68-46af-9d1e-a04119d75aea"
      },
      "execution_count": 100,
      "outputs": [
        {
          "output_type": "stream",
          "name": "stdout",
          "text": [
            "1/1 [==============================] - 0s 21ms/step\n",
            "NN: 0.8666666666666667\n",
            "1/1 [==============================] - 0s 124ms/step\n",
            "LSTM: 0.9333333333333333\n",
            "SVM: 0.8\n"
          ]
        }
      ]
    }
  ]
}