{
  "nbformat": 4,
  "nbformat_minor": 0,
  "metadata": {
    "colab": {
      "provenance": []
    },
    "kernelspec": {
      "name": "python3",
      "display_name": "Python 3"
    },
    "language_info": {
      "name": "python"
    }
  },
  "cells": [
    {
      "cell_type": "code",
      "execution_count": 2,
      "metadata": {
        "id": "s58vsMT6ZJwW"
      },
      "outputs": [],
      "source": [
        "import tensorflow as tf\n",
        "import numpy as np\n",
        "import matplotlib.pyplot as plt\n",
        "import pandas as pd\n",
        "from sklearn.model_selection import train_test_split\n",
        "from keras.models import Sequential\n",
        "from keras.layers import Dense\n",
        "from keras.layers import LSTM\n",
        "from keras.layers import Bidirectional\n",
        "from sklearn.metrics import accuracy_score\n",
        "from keras.callbacks import EarlyStopping\n",
        "from keras.layers import Embedding\n",
        "from keras.layers import GRU\n",
        "from keras.layers import Reshape\n",
        "from sklearn.metrics import f1_score"
      ]
    },
    {
      "cell_type": "code",
      "source": [
        "from re import X\n",
        "data = pd.read_csv('SquatData.csv')\n",
        "X = data[data.columns[1:]]\n",
        "Y = data[data.columns[0]].apply(lambda x: 1 if x == 'c' else 0)\n",
        "X_train, X_test, Y_train, Y_test = train_test_split(X, Y, test_size=0.15, random_state=42)\n",
        "callback = EarlyStopping(monitor='val_loss',patience=10)"
      ],
      "metadata": {
        "id": "nj-pDTdhZTYH"
      },
      "execution_count": 4,
      "outputs": []
    },
    {
      "cell_type": "markdown",
      "source": [
        "### **Nerual Network**"
      ],
      "metadata": {
        "id": "ceGdmlyDN2hW"
      }
    },
    {
      "cell_type": "code",
      "source": [
        "model = Sequential()\n",
        "model.add(Dense(126, input_dim=5032, activation='relu'))\n",
        "model.add(Dense(256, activation='relu'))\n",
        "\n",
        "model.add(Dense(1, activation='sigmoid'))\n",
        "model.compile(loss='binary_crossentropy', optimizer='adam',metrics = ['accuracy'])\n",
        "history=model.fit(X_train, Y_train, epochs =25,validation_split = .15, callbacks=[callback])"
      ],
      "metadata": {
        "colab": {
          "base_uri": "https://localhost:8080/"
        },
        "id": "PDvYpiVUlzqN",
        "outputId": "1edd1e8c-13e9-4417-b9e1-50d3a08f74bb"
      },
      "execution_count": 11,
      "outputs": [
        {
          "output_type": "stream",
          "name": "stdout",
          "text": [
            "Epoch 1/25\n",
            "3/3 [==============================] - 1s 136ms/step - loss: 0.6393 - accuracy: 0.4853 - val_loss: 0.4748 - val_accuracy: 0.7500\n",
            "Epoch 2/25\n",
            "3/3 [==============================] - 0s 42ms/step - loss: 0.4378 - accuracy: 0.7941 - val_loss: 0.4502 - val_accuracy: 0.8333\n",
            "Epoch 3/25\n",
            "3/3 [==============================] - 0s 39ms/step - loss: 0.3920 - accuracy: 0.8382 - val_loss: 0.5777 - val_accuracy: 0.7500\n",
            "Epoch 4/25\n",
            "3/3 [==============================] - 0s 33ms/step - loss: 0.3324 - accuracy: 0.8529 - val_loss: 0.3739 - val_accuracy: 0.8333\n",
            "Epoch 5/25\n",
            "3/3 [==============================] - 0s 39ms/step - loss: 0.3116 - accuracy: 0.8382 - val_loss: 0.4053 - val_accuracy: 0.8333\n",
            "Epoch 6/25\n",
            "3/3 [==============================] - 0s 39ms/step - loss: 0.2603 - accuracy: 0.9118 - val_loss: 0.5550 - val_accuracy: 0.8333\n",
            "Epoch 7/25\n",
            "3/3 [==============================] - 0s 30ms/step - loss: 0.2364 - accuracy: 0.9118 - val_loss: 0.4102 - val_accuracy: 0.9167\n",
            "Epoch 8/25\n",
            "3/3 [==============================] - 0s 33ms/step - loss: 0.1794 - accuracy: 0.9706 - val_loss: 0.3973 - val_accuracy: 0.8333\n",
            "Epoch 9/25\n",
            "3/3 [==============================] - 0s 39ms/step - loss: 0.1437 - accuracy: 0.9412 - val_loss: 0.6794 - val_accuracy: 0.7500\n",
            "Epoch 10/25\n",
            "3/3 [==============================] - 0s 37ms/step - loss: 0.1582 - accuracy: 0.9559 - val_loss: 0.5939 - val_accuracy: 0.6667\n",
            "Epoch 11/25\n",
            "3/3 [==============================] - 0s 30ms/step - loss: 0.1186 - accuracy: 0.9412 - val_loss: 0.3860 - val_accuracy: 0.6667\n",
            "Epoch 12/25\n",
            "3/3 [==============================] - 0s 30ms/step - loss: 0.1047 - accuracy: 0.9412 - val_loss: 0.5071 - val_accuracy: 0.7500\n",
            "Epoch 13/25\n",
            "3/3 [==============================] - 0s 32ms/step - loss: 0.0782 - accuracy: 0.9853 - val_loss: 0.6616 - val_accuracy: 0.7500\n",
            "Epoch 14/25\n",
            "3/3 [==============================] - 0s 38ms/step - loss: 0.0684 - accuracy: 0.9853 - val_loss: 0.2387 - val_accuracy: 0.8333\n",
            "Epoch 15/25\n",
            "3/3 [==============================] - 0s 38ms/step - loss: 0.0445 - accuracy: 1.0000 - val_loss: 0.1166 - val_accuracy: 1.0000\n",
            "Epoch 16/25\n",
            "3/3 [==============================] - 0s 41ms/step - loss: 0.0514 - accuracy: 1.0000 - val_loss: 0.1896 - val_accuracy: 0.9167\n",
            "Epoch 17/25\n",
            "3/3 [==============================] - 0s 39ms/step - loss: 0.0272 - accuracy: 1.0000 - val_loss: 0.3892 - val_accuracy: 0.8333\n",
            "Epoch 18/25\n",
            "3/3 [==============================] - 0s 32ms/step - loss: 0.0385 - accuracy: 0.9853 - val_loss: 0.2542 - val_accuracy: 0.9167\n",
            "Epoch 19/25\n",
            "3/3 [==============================] - 0s 38ms/step - loss: 0.0170 - accuracy: 1.0000 - val_loss: 0.0839 - val_accuracy: 1.0000\n",
            "Epoch 20/25\n",
            "3/3 [==============================] - 0s 36ms/step - loss: 0.0274 - accuracy: 1.0000 - val_loss: 0.0796 - val_accuracy: 1.0000\n",
            "Epoch 21/25\n",
            "3/3 [==============================] - 0s 36ms/step - loss: 0.0155 - accuracy: 1.0000 - val_loss: 0.2093 - val_accuracy: 0.9167\n",
            "Epoch 22/25\n",
            "3/3 [==============================] - 0s 29ms/step - loss: 0.0111 - accuracy: 1.0000 - val_loss: 0.3242 - val_accuracy: 0.8333\n",
            "Epoch 23/25\n",
            "3/3 [==============================] - 0s 29ms/step - loss: 0.0123 - accuracy: 1.0000 - val_loss: 0.2329 - val_accuracy: 0.9167\n",
            "Epoch 24/25\n",
            "3/3 [==============================] - 0s 37ms/step - loss: 0.0065 - accuracy: 1.0000 - val_loss: 0.1630 - val_accuracy: 0.9167\n",
            "Epoch 25/25\n",
            "3/3 [==============================] - 0s 32ms/step - loss: 0.0063 - accuracy: 1.0000 - val_loss: 0.1443 - val_accuracy: 0.9167\n"
          ]
        }
      ]
    },
    {
      "cell_type": "markdown",
      "source": [
        "### **Recurrent Nerual Network**"
      ],
      "metadata": {
        "id": "2e4h3afuN_Mp"
      }
    },
    {
      "cell_type": "code",
      "source": [
        "modelR = Sequential()\n",
        "modelR.add(Reshape((68,74), input_shape=(5032,)))\n",
        "modelR.add(Bidirectional(LSTM(200, return_sequences=True,activation='tanh')))\n",
        "modelR.add(Bidirectional(LSTM(200,activation='tanh')))\n",
        "modelR.add(Dense(256, activation='relu'))\n",
        "modelR.add(Dense(1, activation='sigmoid'))\n",
        "modelR.compile(loss='binary_crossentropy', optimizer='adam',metrics = ['accuracy'])\n",
        "historyR = modelR.fit(X_train, Y_train, epochs =25,validation_split = .15,callbacks=[callback])"
      ],
      "metadata": {
        "colab": {
          "base_uri": "https://localhost:8080/"
        },
        "id": "igww18CTaWyH",
        "outputId": "0c90fd2f-4df9-426f-c525-46811196872b"
      },
      "execution_count": 12,
      "outputs": [
        {
          "output_type": "stream",
          "name": "stdout",
          "text": [
            "Epoch 1/25\n",
            "3/3 [==============================] - 14s 2s/step - loss: 0.6909 - accuracy: 0.6471 - val_loss: 0.8706 - val_accuracy: 0.4167\n",
            "Epoch 2/25\n",
            "3/3 [==============================] - 2s 713ms/step - loss: 0.6502 - accuracy: 0.6471 - val_loss: 0.7713 - val_accuracy: 0.4167\n",
            "Epoch 3/25\n",
            "3/3 [==============================] - 2s 709ms/step - loss: 0.5939 - accuracy: 0.6471 - val_loss: 0.6916 - val_accuracy: 0.4167\n",
            "Epoch 4/25\n",
            "3/3 [==============================] - 2s 689ms/step - loss: 0.5834 - accuracy: 0.6471 - val_loss: 0.7560 - val_accuracy: 0.4167\n",
            "Epoch 5/25\n",
            "3/3 [==============================] - 2s 704ms/step - loss: 0.5547 - accuracy: 0.6618 - val_loss: 0.6047 - val_accuracy: 0.7500\n",
            "Epoch 6/25\n",
            "3/3 [==============================] - 3s 1s/step - loss: 0.5395 - accuracy: 0.7500 - val_loss: 0.6220 - val_accuracy: 0.7500\n",
            "Epoch 7/25\n",
            "3/3 [==============================] - 3s 1s/step - loss: 0.4487 - accuracy: 0.8382 - val_loss: 0.7204 - val_accuracy: 0.7500\n",
            "Epoch 8/25\n",
            "3/3 [==============================] - 2s 722ms/step - loss: 0.4071 - accuracy: 0.8382 - val_loss: 0.7136 - val_accuracy: 0.7500\n",
            "Epoch 9/25\n",
            "3/3 [==============================] - 2s 692ms/step - loss: 0.3378 - accuracy: 0.8088 - val_loss: 1.3591 - val_accuracy: 0.6667\n",
            "Epoch 10/25\n",
            "3/3 [==============================] - 2s 686ms/step - loss: 0.5637 - accuracy: 0.8235 - val_loss: 0.6864 - val_accuracy: 0.7500\n",
            "Epoch 11/25\n",
            "3/3 [==============================] - 2s 715ms/step - loss: 0.3312 - accuracy: 0.8676 - val_loss: 0.8878 - val_accuracy: 0.5833\n",
            "Epoch 12/25\n",
            "3/3 [==============================] - 4s 1s/step - loss: 0.3781 - accuracy: 0.8529 - val_loss: 0.3866 - val_accuracy: 0.9167\n",
            "Epoch 13/25\n",
            "3/3 [==============================] - 3s 712ms/step - loss: 0.3610 - accuracy: 0.8235 - val_loss: 0.3871 - val_accuracy: 0.9167\n",
            "Epoch 14/25\n",
            "3/3 [==============================] - 2s 705ms/step - loss: 0.3404 - accuracy: 0.8382 - val_loss: 0.5054 - val_accuracy: 0.7500\n",
            "Epoch 15/25\n",
            "3/3 [==============================] - 2s 692ms/step - loss: 0.3286 - accuracy: 0.8529 - val_loss: 0.7339 - val_accuracy: 0.5833\n",
            "Epoch 16/25\n",
            "3/3 [==============================] - 2s 721ms/step - loss: 0.3853 - accuracy: 0.8088 - val_loss: 0.5044 - val_accuracy: 0.7500\n",
            "Epoch 17/25\n",
            "3/3 [==============================] - 3s 978ms/step - loss: 0.2999 - accuracy: 0.8676 - val_loss: 0.4676 - val_accuracy: 0.7500\n",
            "Epoch 18/25\n",
            "3/3 [==============================] - 4s 1s/step - loss: 0.2885 - accuracy: 0.8971 - val_loss: 0.6015 - val_accuracy: 0.7500\n",
            "Epoch 19/25\n",
            "3/3 [==============================] - 2s 694ms/step - loss: 0.3567 - accuracy: 0.8235 - val_loss: 0.4590 - val_accuracy: 0.7500\n",
            "Epoch 20/25\n",
            "3/3 [==============================] - 2s 694ms/step - loss: 0.2695 - accuracy: 0.8971 - val_loss: 0.3873 - val_accuracy: 0.7500\n",
            "Epoch 21/25\n",
            "3/3 [==============================] - 2s 725ms/step - loss: 0.2716 - accuracy: 0.8824 - val_loss: 0.4001 - val_accuracy: 0.7500\n",
            "Epoch 22/25\n",
            "3/3 [==============================] - 2s 726ms/step - loss: 0.2374 - accuracy: 0.9118 - val_loss: 0.4609 - val_accuracy: 0.7500\n"
          ]
        }
      ]
    },
    {
      "cell_type": "markdown",
      "source": [
        "### **SVM**"
      ],
      "metadata": {
        "id": "upMh0536jjyn"
      }
    },
    {
      "cell_type": "code",
      "source": [
        "from sklearn import svm\n"
      ],
      "metadata": {
        "id": "o8P9l63pkoyH"
      },
      "execution_count": 8,
      "outputs": []
    },
    {
      "cell_type": "code",
      "source": [
        "clf = svm.SVC()\n",
        "clf.fit(X_train, Y_train)"
      ],
      "metadata": {
        "colab": {
          "base_uri": "https://localhost:8080/",
          "height": 74
        },
        "id": "QjF1gl25kwsX",
        "outputId": "30ba4c81-94bb-4ee1-bca6-7d0702004135"
      },
      "execution_count": 9,
      "outputs": [
        {
          "output_type": "execute_result",
          "data": {
            "text/plain": [
              "SVC()"
            ],
            "text/html": [
              "<style>#sk-container-id-1 {color: black;background-color: white;}#sk-container-id-1 pre{padding: 0;}#sk-container-id-1 div.sk-toggleable {background-color: white;}#sk-container-id-1 label.sk-toggleable__label {cursor: pointer;display: block;width: 100%;margin-bottom: 0;padding: 0.3em;box-sizing: border-box;text-align: center;}#sk-container-id-1 label.sk-toggleable__label-arrow:before {content: \"▸\";float: left;margin-right: 0.25em;color: #696969;}#sk-container-id-1 label.sk-toggleable__label-arrow:hover:before {color: black;}#sk-container-id-1 div.sk-estimator:hover label.sk-toggleable__label-arrow:before {color: black;}#sk-container-id-1 div.sk-toggleable__content {max-height: 0;max-width: 0;overflow: hidden;text-align: left;background-color: #f0f8ff;}#sk-container-id-1 div.sk-toggleable__content pre {margin: 0.2em;color: black;border-radius: 0.25em;background-color: #f0f8ff;}#sk-container-id-1 input.sk-toggleable__control:checked~div.sk-toggleable__content {max-height: 200px;max-width: 100%;overflow: auto;}#sk-container-id-1 input.sk-toggleable__control:checked~label.sk-toggleable__label-arrow:before {content: \"▾\";}#sk-container-id-1 div.sk-estimator input.sk-toggleable__control:checked~label.sk-toggleable__label {background-color: #d4ebff;}#sk-container-id-1 div.sk-label input.sk-toggleable__control:checked~label.sk-toggleable__label {background-color: #d4ebff;}#sk-container-id-1 input.sk-hidden--visually {border: 0;clip: rect(1px 1px 1px 1px);clip: rect(1px, 1px, 1px, 1px);height: 1px;margin: -1px;overflow: hidden;padding: 0;position: absolute;width: 1px;}#sk-container-id-1 div.sk-estimator {font-family: monospace;background-color: #f0f8ff;border: 1px dotted black;border-radius: 0.25em;box-sizing: border-box;margin-bottom: 0.5em;}#sk-container-id-1 div.sk-estimator:hover {background-color: #d4ebff;}#sk-container-id-1 div.sk-parallel-item::after {content: \"\";width: 100%;border-bottom: 1px solid gray;flex-grow: 1;}#sk-container-id-1 div.sk-label:hover label.sk-toggleable__label {background-color: #d4ebff;}#sk-container-id-1 div.sk-serial::before {content: \"\";position: absolute;border-left: 1px solid gray;box-sizing: border-box;top: 0;bottom: 0;left: 50%;z-index: 0;}#sk-container-id-1 div.sk-serial {display: flex;flex-direction: column;align-items: center;background-color: white;padding-right: 0.2em;padding-left: 0.2em;position: relative;}#sk-container-id-1 div.sk-item {position: relative;z-index: 1;}#sk-container-id-1 div.sk-parallel {display: flex;align-items: stretch;justify-content: center;background-color: white;position: relative;}#sk-container-id-1 div.sk-item::before, #sk-container-id-1 div.sk-parallel-item::before {content: \"\";position: absolute;border-left: 1px solid gray;box-sizing: border-box;top: 0;bottom: 0;left: 50%;z-index: -1;}#sk-container-id-1 div.sk-parallel-item {display: flex;flex-direction: column;z-index: 1;position: relative;background-color: white;}#sk-container-id-1 div.sk-parallel-item:first-child::after {align-self: flex-end;width: 50%;}#sk-container-id-1 div.sk-parallel-item:last-child::after {align-self: flex-start;width: 50%;}#sk-container-id-1 div.sk-parallel-item:only-child::after {width: 0;}#sk-container-id-1 div.sk-dashed-wrapped {border: 1px dashed gray;margin: 0 0.4em 0.5em 0.4em;box-sizing: border-box;padding-bottom: 0.4em;background-color: white;}#sk-container-id-1 div.sk-label label {font-family: monospace;font-weight: bold;display: inline-block;line-height: 1.2em;}#sk-container-id-1 div.sk-label-container {text-align: center;}#sk-container-id-1 div.sk-container {/* jupyter's `normalize.less` sets `[hidden] { display: none; }` but bootstrap.min.css set `[hidden] { display: none !important; }` so we also need the `!important` here to be able to override the default hidden behavior on the sphinx rendered scikit-learn.org. See: https://github.com/scikit-learn/scikit-learn/issues/21755 */display: inline-block !important;position: relative;}#sk-container-id-1 div.sk-text-repr-fallback {display: none;}</style><div id=\"sk-container-id-1\" class=\"sk-top-container\"><div class=\"sk-text-repr-fallback\"><pre>SVC()</pre><b>In a Jupyter environment, please rerun this cell to show the HTML representation or trust the notebook. <br />On GitHub, the HTML representation is unable to render, please try loading this page with nbviewer.org.</b></div><div class=\"sk-container\" hidden><div class=\"sk-item\"><div class=\"sk-estimator sk-toggleable\"><input class=\"sk-toggleable__control sk-hidden--visually\" id=\"sk-estimator-id-1\" type=\"checkbox\" checked><label for=\"sk-estimator-id-1\" class=\"sk-toggleable__label sk-toggleable__label-arrow\">SVC</label><div class=\"sk-toggleable__content\"><pre>SVC()</pre></div></div></div></div></div>"
            ]
          },
          "metadata": {},
          "execution_count": 9
        }
      ]
    },
    {
      "cell_type": "markdown",
      "source": [
        "### **Preformancen test**"
      ],
      "metadata": {
        "id": "EPdTueWWC4uK"
      }
    },
    {
      "cell_type": "code",
      "source": [
        "Y_pred_NN = [1 if a > 0.5 else 0 for a in model.predict(X_test)]\n",
        "print(\"NN Accuracy:\",accuracy_score(Y_test,Y_pred_NN))\n",
        "print(\"NN f1_score:\",f1_score(Y_test,Y_pred_NN))\n",
        "\n",
        "Y_pred_LSTM = [1 if a > 0.5 else 0 for a in modelR.predict(X_test)]\n",
        "print(\"LSTM Accuracy:\",accuracy_score(Y_test,Y_pred_LSTM))\n",
        "print(\"LSTM f1_score:\",f1_score(Y_test,Y_pred_LSTM))\n",
        "\n",
        "Y_pred_svm = clf.predict(X_test)\n",
        "print(\"SVM Accuracy:\",accuracy_score(Y_test,Y_pred_svm))\n",
        "print(\"SVM f1_score:\",f1_score(Y_test,Y_pred_svm))"
      ],
      "metadata": {
        "colab": {
          "base_uri": "https://localhost:8080/"
        },
        "id": "fyS02Ld1k10p",
        "outputId": "b1edf49f-91b6-46fd-d1d3-10b63fb058fd"
      },
      "execution_count": 10,
      "outputs": [
        {
          "output_type": "stream",
          "name": "stdout",
          "text": [
            "1/1 [==============================] - 0s 99ms/step\n",
            "NN Accuracy: 0.8666666666666667\n",
            "NN f1_score: 0.9090909090909091\n",
            "1/1 [==============================] - 2s 2s/step\n",
            "LSTM Accuracy: 0.8666666666666667\n",
            "LSTM f1_score: 0.888888888888889\n",
            "SVM Accuracy: 0.8\n",
            "SVM f1_score: 0.8421052631578948\n"
          ]
        }
      ]
    },
    {
      "cell_type": "markdown",
      "source": [
        "### **Learning** **Charts**"
      ],
      "metadata": {
        "id": "d_dUCTwen1R4"
      }
    },
    {
      "cell_type": "code",
      "source": [
        "from sklearn.metrics import confusion_matrix, ConfusionMatrixDisplay\n",
        "\n",
        "print(\"Neural Network\")\n",
        "cm = ConfusionMatrixDisplay(confusion_matrix=confusion_matrix(Y_test,Y_pred_NN))\n",
        "cm.plot()"
      ],
      "metadata": {
        "colab": {
          "base_uri": "https://localhost:8080/",
          "height": 490
        },
        "id": "SayJgVtFnz6p",
        "outputId": "6b3b4690-bc9c-43aa-c949-149913a3ad25"
      },
      "execution_count": 21,
      "outputs": [
        {
          "output_type": "stream",
          "name": "stdout",
          "text": [
            "Neural Network\n"
          ]
        },
        {
          "output_type": "execute_result",
          "data": {
            "text/plain": [
              "<sklearn.metrics._plot.confusion_matrix.ConfusionMatrixDisplay at 0x7caa7bccc4f0>"
            ]
          },
          "metadata": {},
          "execution_count": 21
        },
        {
          "output_type": "display_data",
          "data": {
            "text/plain": [
              "<Figure size 640x480 with 2 Axes>"
            ],
            "image/png": "[encoded data removed]"
          },
          "metadata": {}
        }
      ]
    },
    {
      "cell_type": "code",
      "source": [
        "print(\"Recurrent Neural Network\")\n",
        "cm = ConfusionMatrixDisplay(confusion_matrix=confusion_matrix(Y_test,Y_pred_LSTM))\n",
        "cm.plot()"
      ],
      "metadata": {
        "colab": {
          "base_uri": "https://localhost:8080/",
          "height": 490
        },
        "id": "Ns1Ugylfv1BX",
        "outputId": "837f8cc0-3bc7-44bc-9951-520f249444b4"
      },
      "execution_count": 23,
      "outputs": [
        {
          "output_type": "stream",
          "name": "stdout",
          "text": [
            "Recurrent Neural Network\n"
          ]
        },
        {
          "output_type": "execute_result",
          "data": {
            "text/plain": [
              "<sklearn.metrics._plot.confusion_matrix.ConfusionMatrixDisplay at 0x7caa7be927d0>"
            ]
          },
          "metadata": {},
          "execution_count": 23
        },
        {
          "output_type": "display_data",
          "data": {
            "text/plain": [
              "<Figure size 640x480 with 2 Axes>"
            ],
            "image/png": "[encoded data removed]"
          },
          "metadata": {}
        }
      ]
    },
    {
      "cell_type": "code",
      "source": [
        "print(\"Support Vector Machine\")\n",
        "cm = ConfusionMatrixDisplay(confusion_matrix=confusion_matrix(Y_test,Y_pred_svm))\n",
        "cm.plot()"
      ],
      "metadata": {
        "colab": {
          "base_uri": "https://localhost:8080/",
          "height": 490
        },
        "id": "NWS56hbGv22e",
        "outputId": "ecb3b0c4-f207-4098-d4ab-6ca2a8e581cd"
      },
      "execution_count": 24,
      "outputs": [
        {
          "output_type": "stream",
          "name": "stdout",
          "text": [
            "Support Vector Machine\n"
          ]
        },
        {
          "output_type": "execute_result",
          "data": {
            "text/plain": [
              "<sklearn.metrics._plot.confusion_matrix.ConfusionMatrixDisplay at 0x7caa7c107f40>"
            ]
          },
          "metadata": {},
          "execution_count": 24
        },
        {
          "output_type": "display_data",
          "data": {
            "text/plain": [
              "<Figure size 640x480 with 2 Axes>"
            ],
            "image/png": "[encoded data removed]"
          },
          "metadata": {}
        }
      ]
    }
  ]
}