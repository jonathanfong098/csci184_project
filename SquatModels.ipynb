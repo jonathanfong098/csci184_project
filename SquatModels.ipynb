{
  "nbformat": 4,
  "nbformat_minor": 0,
  "metadata": {
    "colab": {
      "provenance": []
    },
    "kernelspec": {
      "name": "python3",
      "display_name": "Python 3"
    },
    "language_info": {
      "name": "python"
    }
  },
  "cells": [
    {
      "cell_type": "code",
      "execution_count": 2,
      "metadata": {
        "id": "s58vsMT6ZJwW"
      },
      "outputs": [],
      "source": [
        "import tensorflow as tf\n",
        "import numpy as np\n",
        "import matplotlib.pyplot as plt\n",
        "import pandas as pd\n",
        "from sklearn.model_selection import train_test_split\n",
        "from keras.models import Sequential\n",
        "from keras.layers import Dense\n",
        "from keras.layers import LSTM\n",
        "from keras.layers import Bidirectional\n",
        "from sklearn.metrics import accuracy_score\n",
        "from keras.callbacks import EarlyStopping\n",
        "from keras.layers import Embedding\n",
        "from keras.layers import GRU\n",
        "from keras.layers import Reshape\n",
        "from sklearn.metrics import f1_score"
      ]
    },
    {
      "cell_type": "code",
      "source": [
        "from re import X\n",
        "data = pd.read_csv('SquatData.csv')\n",
        "X = data[data.columns[1:]]\n",
        "Y = data[data.columns[0]].apply(lambda x: 1 if x == 'c' else 0)\n",
        "X_train, X_test, Y_train, Y_test = train_test_split(X, Y, test_size=0.15, random_state=42)\n",
        "callback = EarlyStopping(monitor='val_loss',patience=10)"
      ],
      "metadata": {
        "id": "nj-pDTdhZTYH"
      },
      "execution_count": 4,
      "outputs": []
    },
    {
      "cell_type": "markdown",
      "source": [
        "### **Nerual Network**"
      ],
      "metadata": {
        "id": "ceGdmlyDN2hW"
      }
    },
    {
      "cell_type": "code",
      "source": [
        "model = Sequential()\n",
        "model.add(Dense(126, input_dim=5032, activation='relu'))\n",
        "model.add(Dense(256, activation='relu'))\n",
        "\n",
        "model.add(Dense(1, activation='sigmoid'))\n",
        "model.compile(loss='binary_crossentropy', optimizer='adam',metrics = ['accuracy'])\n",
        "history=model.fit(X_train, Y_train, epochs =100,validation_split = .15, callbacks=[callback])"
      ],
      "metadata": {
        "colab": {
          "base_uri": "https://localhost:8080/"
        },
        "id": "PDvYpiVUlzqN",
        "outputId": "79db6086-6565-4723-a233-333d016f266c"
      },
      "execution_count": 25,
      "outputs": [
        {
          "output_type": "stream",
          "name": "stdout",
          "text": [
            "Epoch 1/100\n",
            "3/3 [==============================] - 4s 250ms/step - loss: 0.6572 - accuracy: 0.6618 - val_loss: 0.4314 - val_accuracy: 0.8333\n",
            "Epoch 2/100\n",
            "3/3 [==============================] - 0s 52ms/step - loss: 0.4043 - accuracy: 0.8088 - val_loss: 0.4129 - val_accuracy: 0.8333\n",
            "Epoch 3/100\n",
            "3/3 [==============================] - 0s 50ms/step - loss: 0.3688 - accuracy: 0.8088 - val_loss: 0.3789 - val_accuracy: 0.8333\n",
            "Epoch 4/100\n",
            "3/3 [==============================] - 0s 49ms/step - loss: 0.3144 - accuracy: 0.8382 - val_loss: 0.4794 - val_accuracy: 0.8333\n",
            "Epoch 5/100\n",
            "3/3 [==============================] - 0s 53ms/step - loss: 0.2844 - accuracy: 0.8971 - val_loss: 0.5053 - val_accuracy: 0.9167\n",
            "Epoch 6/100\n",
            "3/3 [==============================] - 0s 66ms/step - loss: 0.2388 - accuracy: 0.9265 - val_loss: 0.3681 - val_accuracy: 0.8333\n",
            "Epoch 7/100\n",
            "3/3 [==============================] - 0s 59ms/step - loss: 0.2477 - accuracy: 0.9118 - val_loss: 0.3089 - val_accuracy: 0.7500\n",
            "Epoch 8/100\n",
            "3/3 [==============================] - 0s 57ms/step - loss: 0.2870 - accuracy: 0.8676 - val_loss: 0.3816 - val_accuracy: 0.8333\n",
            "Epoch 9/100\n",
            "3/3 [==============================] - 0s 49ms/step - loss: 0.1555 - accuracy: 0.9853 - val_loss: 0.5411 - val_accuracy: 0.6667\n",
            "Epoch 10/100\n",
            "3/3 [==============================] - 0s 48ms/step - loss: 0.1480 - accuracy: 0.9559 - val_loss: 0.3575 - val_accuracy: 0.9167\n",
            "Epoch 11/100\n",
            "3/3 [==============================] - 0s 30ms/step - loss: 0.1110 - accuracy: 0.9706 - val_loss: 0.2678 - val_accuracy: 0.8333\n",
            "Epoch 12/100\n",
            "3/3 [==============================] - 0s 39ms/step - loss: 0.1274 - accuracy: 0.9412 - val_loss: 0.2181 - val_accuracy: 0.8333\n",
            "Epoch 13/100\n",
            "3/3 [==============================] - 0s 46ms/step - loss: 0.0847 - accuracy: 0.9706 - val_loss: 0.3499 - val_accuracy: 0.8333\n",
            "Epoch 14/100\n",
            "3/3 [==============================] - 0s 31ms/step - loss: 0.0558 - accuracy: 1.0000 - val_loss: 0.6513 - val_accuracy: 0.7500\n",
            "Epoch 15/100\n",
            "3/3 [==============================] - 0s 40ms/step - loss: 0.0724 - accuracy: 0.9853 - val_loss: 0.4238 - val_accuracy: 0.8333\n",
            "Epoch 16/100\n",
            "3/3 [==============================] - 0s 33ms/step - loss: 0.0376 - accuracy: 1.0000 - val_loss: 0.2117 - val_accuracy: 0.9167\n",
            "Epoch 17/100\n",
            "3/3 [==============================] - 0s 37ms/step - loss: 0.0422 - accuracy: 1.0000 - val_loss: 0.2158 - val_accuracy: 0.9167\n",
            "Epoch 18/100\n",
            "3/3 [==============================] - 0s 38ms/step - loss: 0.0221 - accuracy: 1.0000 - val_loss: 0.3559 - val_accuracy: 0.8333\n",
            "Epoch 19/100\n",
            "3/3 [==============================] - 0s 30ms/step - loss: 0.0178 - accuracy: 1.0000 - val_loss: 0.4580 - val_accuracy: 0.8333\n",
            "Epoch 20/100\n",
            "3/3 [==============================] - 0s 42ms/step - loss: 0.0208 - accuracy: 1.0000 - val_loss: 0.3707 - val_accuracy: 0.8333\n",
            "Epoch 21/100\n",
            "3/3 [==============================] - 0s 39ms/step - loss: 0.0140 - accuracy: 1.0000 - val_loss: 0.1718 - val_accuracy: 0.9167\n",
            "Epoch 22/100\n",
            "3/3 [==============================] - 0s 46ms/step - loss: 0.0184 - accuracy: 1.0000 - val_loss: 0.1127 - val_accuracy: 1.0000\n",
            "Epoch 23/100\n",
            "3/3 [==============================] - 0s 39ms/step - loss: 0.0277 - accuracy: 1.0000 - val_loss: 0.2279 - val_accuracy: 0.9167\n",
            "Epoch 24/100\n",
            "3/3 [==============================] - 0s 41ms/step - loss: 0.0127 - accuracy: 1.0000 - val_loss: 0.5262 - val_accuracy: 0.8333\n",
            "Epoch 25/100\n",
            "3/3 [==============================] - 0s 38ms/step - loss: 0.0118 - accuracy: 1.0000 - val_loss: 0.5587 - val_accuracy: 0.8333\n",
            "Epoch 26/100\n",
            "3/3 [==============================] - 0s 30ms/step - loss: 0.0093 - accuracy: 1.0000 - val_loss: 0.4518 - val_accuracy: 0.8333\n",
            "Epoch 27/100\n",
            "3/3 [==============================] - 0s 34ms/step - loss: 0.0058 - accuracy: 1.0000 - val_loss: 0.4022 - val_accuracy: 0.8333\n",
            "Epoch 28/100\n",
            "3/3 [==============================] - 0s 39ms/step - loss: 0.0054 - accuracy: 1.0000 - val_loss: 0.4220 - val_accuracy: 0.8333\n",
            "Epoch 29/100\n",
            "3/3 [==============================] - 0s 40ms/step - loss: 0.0045 - accuracy: 1.0000 - val_loss: 0.4877 - val_accuracy: 0.8333\n",
            "Epoch 30/100\n",
            "3/3 [==============================] - 0s 39ms/step - loss: 0.0035 - accuracy: 1.0000 - val_loss: 0.5267 - val_accuracy: 0.8333\n",
            "Epoch 31/100\n",
            "3/3 [==============================] - 0s 41ms/step - loss: 0.0035 - accuracy: 1.0000 - val_loss: 0.5488 - val_accuracy: 0.8333\n",
            "Epoch 32/100\n",
            "3/3 [==============================] - 0s 32ms/step - loss: 0.0033 - accuracy: 1.0000 - val_loss: 0.5355 - val_accuracy: 0.8333\n"
          ]
        }
      ]
    },
    {
      "cell_type": "markdown",
      "source": [
        "### **Recurrent Nerual Network**"
      ],
      "metadata": {
        "id": "2e4h3afuN_Mp"
      }
    },
    {
      "cell_type": "code",
      "source": [
        "modelR = Sequential()\n",
        "modelR.add(Reshape((68,74), input_shape=(5032,)))\n",
        "modelR.add(Bidirectional(LSTM(200, return_sequences=True,activation='tanh')))\n",
        "modelR.add(Bidirectional(LSTM(200,activation='tanh')))\n",
        "modelR.add(Dense(256, activation='relu'))\n",
        "modelR.add(Dense(1, activation='sigmoid'))\n",
        "modelR.compile(loss='binary_crossentropy', optimizer='adam',metrics = ['accuracy'])\n",
        "historyR = modelR.fit(X_train, Y_train, epochs =100,validation_split = .15,callbacks=[callback])"
      ],
      "metadata": {
        "colab": {
          "base_uri": "https://localhost:8080/"
        },
        "id": "igww18CTaWyH",
        "outputId": "7920a914-7772-475c-8964-2d8d2c23c5ea"
      },
      "execution_count": 26,
      "outputs": [
        {
          "output_type": "stream",
          "name": "stdout",
          "text": [
            "Epoch 1/100\n",
            "3/3 [==============================] - 14s 2s/step - loss: 0.6569 - accuracy: 0.6324 - val_loss: 0.7908 - val_accuracy: 0.4167\n",
            "Epoch 2/100\n",
            "3/3 [==============================] - 2s 736ms/step - loss: 0.6224 - accuracy: 0.6471 - val_loss: 0.6248 - val_accuracy: 0.7500\n",
            "Epoch 3/100\n",
            "3/3 [==============================] - 4s 1s/step - loss: 0.6963 - accuracy: 0.4706 - val_loss: 0.6806 - val_accuracy: 0.5833\n",
            "Epoch 4/100\n",
            "3/3 [==============================] - 3s 746ms/step - loss: 0.6398 - accuracy: 0.7206 - val_loss: 0.7955 - val_accuracy: 0.4167\n",
            "Epoch 5/100\n",
            "3/3 [==============================] - 2s 752ms/step - loss: 0.6106 - accuracy: 0.6471 - val_loss: 0.7154 - val_accuracy: 0.4167\n",
            "Epoch 6/100\n",
            "3/3 [==============================] - 2s 761ms/step - loss: 0.5927 - accuracy: 0.6618 - val_loss: 0.6519 - val_accuracy: 0.5833\n",
            "Epoch 7/100\n",
            "3/3 [==============================] - 2s 717ms/step - loss: 0.5919 - accuracy: 0.7500 - val_loss: 0.5877 - val_accuracy: 0.7500\n",
            "Epoch 8/100\n",
            "3/3 [==============================] - 3s 1s/step - loss: 0.5893 - accuracy: 0.7059 - val_loss: 0.6478 - val_accuracy: 0.5000\n",
            "Epoch 9/100\n",
            "3/3 [==============================] - 4s 1s/step - loss: 0.4778 - accuracy: 0.7500 - val_loss: 0.6061 - val_accuracy: 0.7500\n",
            "Epoch 10/100\n",
            "3/3 [==============================] - 2s 760ms/step - loss: 0.4123 - accuracy: 0.8529 - val_loss: 0.4416 - val_accuracy: 0.9167\n",
            "Epoch 11/100\n",
            "3/3 [==============================] - 2s 747ms/step - loss: 0.4058 - accuracy: 0.8382 - val_loss: 0.6058 - val_accuracy: 0.7500\n",
            "Epoch 12/100\n",
            "3/3 [==============================] - 2s 739ms/step - loss: 0.3026 - accuracy: 0.8824 - val_loss: 0.4499 - val_accuracy: 0.6667\n",
            "Epoch 13/100\n",
            "3/3 [==============================] - 3s 865ms/step - loss: 0.5832 - accuracy: 0.6912 - val_loss: 0.4710 - val_accuracy: 0.8333\n",
            "Epoch 14/100\n",
            "3/3 [==============================] - 4s 1s/step - loss: 0.3214 - accuracy: 0.8971 - val_loss: 0.8548 - val_accuracy: 0.5833\n",
            "Epoch 15/100\n",
            "3/3 [==============================] - 2s 731ms/step - loss: 0.3985 - accuracy: 0.8676 - val_loss: 0.4012 - val_accuracy: 0.8333\n",
            "Epoch 16/100\n",
            "3/3 [==============================] - 2s 741ms/step - loss: 0.2921 - accuracy: 0.8382 - val_loss: 0.3913 - val_accuracy: 0.8333\n",
            "Epoch 17/100\n",
            "3/3 [==============================] - 3s 1s/step - loss: 0.2551 - accuracy: 0.8676 - val_loss: 0.5931 - val_accuracy: 0.7500\n",
            "Epoch 18/100\n",
            "3/3 [==============================] - 4s 1s/step - loss: 0.2373 - accuracy: 0.9118 - val_loss: 0.2964 - val_accuracy: 0.7500\n",
            "Epoch 19/100\n",
            "3/3 [==============================] - 3s 987ms/step - loss: 0.4239 - accuracy: 0.7059 - val_loss: 0.6695 - val_accuracy: 0.7500\n",
            "Epoch 20/100\n",
            "3/3 [==============================] - 2s 742ms/step - loss: 0.3434 - accuracy: 0.8529 - val_loss: 1.2638 - val_accuracy: 0.5000\n",
            "Epoch 21/100\n",
            "3/3 [==============================] - 2s 742ms/step - loss: 0.4781 - accuracy: 0.7353 - val_loss: 0.3964 - val_accuracy: 0.8333\n",
            "Epoch 22/100\n",
            "3/3 [==============================] - 2s 752ms/step - loss: 0.2756 - accuracy: 0.9412 - val_loss: 0.3268 - val_accuracy: 0.8333\n",
            "Epoch 23/100\n",
            "3/3 [==============================] - 2s 763ms/step - loss: 0.3144 - accuracy: 0.8971 - val_loss: 0.3566 - val_accuracy: 0.8333\n",
            "Epoch 24/100\n",
            "3/3 [==============================] - 4s 1s/step - loss: 0.2122 - accuracy: 0.9118 - val_loss: 0.6315 - val_accuracy: 0.7500\n",
            "Epoch 25/100\n",
            "3/3 [==============================] - 3s 747ms/step - loss: 0.2649 - accuracy: 0.8824 - val_loss: 0.5814 - val_accuracy: 0.7500\n",
            "Epoch 26/100\n",
            "3/3 [==============================] - 2s 720ms/step - loss: 0.2062 - accuracy: 0.9265 - val_loss: 0.2374 - val_accuracy: 0.9167\n",
            "Epoch 27/100\n",
            "3/3 [==============================] - 2s 699ms/step - loss: 0.1984 - accuracy: 0.9412 - val_loss: 0.1845 - val_accuracy: 0.9167\n",
            "Epoch 28/100\n",
            "3/3 [==============================] - 2s 707ms/step - loss: 0.1243 - accuracy: 0.9706 - val_loss: 0.5486 - val_accuracy: 0.7500\n",
            "Epoch 29/100\n",
            "3/3 [==============================] - 3s 1s/step - loss: 0.2121 - accuracy: 0.8971 - val_loss: 0.5555 - val_accuracy: 0.7500\n",
            "Epoch 30/100\n",
            "3/3 [==============================] - 3s 992ms/step - loss: 0.1526 - accuracy: 0.9265 - val_loss: 0.1391 - val_accuracy: 1.0000\n",
            "Epoch 31/100\n",
            "3/3 [==============================] - 2s 755ms/step - loss: 0.0953 - accuracy: 1.0000 - val_loss: 0.1097 - val_accuracy: 1.0000\n",
            "Epoch 32/100\n",
            "3/3 [==============================] - 2s 727ms/step - loss: 0.0597 - accuracy: 1.0000 - val_loss: 0.4196 - val_accuracy: 0.7500\n",
            "Epoch 33/100\n",
            "3/3 [==============================] - 2s 723ms/step - loss: 0.1961 - accuracy: 0.9118 - val_loss: 0.0633 - val_accuracy: 1.0000\n",
            "Epoch 34/100\n",
            "3/3 [==============================] - 2s 784ms/step - loss: 0.0377 - accuracy: 1.0000 - val_loss: 0.2297 - val_accuracy: 0.9167\n",
            "Epoch 35/100\n",
            "3/3 [==============================] - 4s 1s/step - loss: 0.1169 - accuracy: 0.9559 - val_loss: 0.0506 - val_accuracy: 1.0000\n",
            "Epoch 36/100\n",
            "3/3 [==============================] - 3s 759ms/step - loss: 0.0267 - accuracy: 0.9853 - val_loss: 0.0561 - val_accuracy: 1.0000\n",
            "Epoch 37/100\n",
            "3/3 [==============================] - 2s 731ms/step - loss: 0.0071 - accuracy: 1.0000 - val_loss: 0.8763 - val_accuracy: 0.6667\n",
            "Epoch 38/100\n",
            "3/3 [==============================] - 2s 741ms/step - loss: 0.6509 - accuracy: 0.7794 - val_loss: 0.0113 - val_accuracy: 1.0000\n",
            "Epoch 39/100\n",
            "3/3 [==============================] - 2s 751ms/step - loss: 0.3901 - accuracy: 0.8824 - val_loss: 0.6280 - val_accuracy: 0.8333\n",
            "Epoch 40/100\n",
            "3/3 [==============================] - 4s 1s/step - loss: 0.3719 - accuracy: 0.8382 - val_loss: 0.9256 - val_accuracy: 0.6667\n",
            "Epoch 41/100\n",
            "3/3 [==============================] - 3s 751ms/step - loss: 0.4228 - accuracy: 0.8971 - val_loss: 1.1626 - val_accuracy: 0.6667\n",
            "Epoch 42/100\n",
            "3/3 [==============================] - 2s 735ms/step - loss: 0.4682 - accuracy: 0.8824 - val_loss: 0.3949 - val_accuracy: 0.9167\n",
            "Epoch 43/100\n",
            "3/3 [==============================] - 2s 756ms/step - loss: 0.1005 - accuracy: 0.9559 - val_loss: 0.1654 - val_accuracy: 0.9167\n",
            "Epoch 44/100\n",
            "3/3 [==============================] - 2s 745ms/step - loss: 0.1475 - accuracy: 0.9559 - val_loss: 0.1600 - val_accuracy: 0.9167\n",
            "Epoch 45/100\n",
            "3/3 [==============================] - 3s 1s/step - loss: 0.0851 - accuracy: 0.9706 - val_loss: 0.2181 - val_accuracy: 0.8333\n",
            "Epoch 46/100\n",
            "3/3 [==============================] - 4s 1s/step - loss: 0.0487 - accuracy: 0.9853 - val_loss: 0.4773 - val_accuracy: 0.8333\n",
            "Epoch 47/100\n",
            "3/3 [==============================] - 2s 715ms/step - loss: 0.0720 - accuracy: 0.9853 - val_loss: 0.2338 - val_accuracy: 0.8333\n",
            "Epoch 48/100\n",
            "3/3 [==============================] - 2s 731ms/step - loss: 0.0099 - accuracy: 1.0000 - val_loss: 0.1169 - val_accuracy: 0.9167\n"
          ]
        }
      ]
    },
    {
      "cell_type": "markdown",
      "source": [
        "### **SVM**"
      ],
      "metadata": {
        "id": "upMh0536jjyn"
      }
    },
    {
      "cell_type": "code",
      "source": [
        "from sklearn import svm\n"
      ],
      "metadata": {
        "id": "o8P9l63pkoyH"
      },
      "execution_count": 27,
      "outputs": []
    },
    {
      "cell_type": "code",
      "source": [
        "clf = svm.SVC()\n",
        "clf.fit(X_train, Y_train)"
      ],
      "metadata": {
        "colab": {
          "base_uri": "https://localhost:8080/",
          "height": 74
        },
        "id": "QjF1gl25kwsX",
        "outputId": "a2303195-07c4-499d-e46b-7f890774743a"
      },
      "execution_count": 28,
      "outputs": [
        {
          "output_type": "execute_result",
          "data": {
            "text/plain": [
              "SVC()"
            ],
            "text/html": [
              "<style>#sk-container-id-2 {color: black;background-color: white;}#sk-container-id-2 pre{padding: 0;}#sk-container-id-2 div.sk-toggleable {background-color: white;}#sk-container-id-2 label.sk-toggleable__label {cursor: pointer;display: block;width: 100%;margin-bottom: 0;padding: 0.3em;box-sizing: border-box;text-align: center;}#sk-container-id-2 label.sk-toggleable__label-arrow:before {content: \"▸\";float: left;margin-right: 0.25em;color: #696969;}#sk-container-id-2 label.sk-toggleable__label-arrow:hover:before {color: black;}#sk-container-id-2 div.sk-estimator:hover label.sk-toggleable__label-arrow:before {color: black;}#sk-container-id-2 div.sk-toggleable__content {max-height: 0;max-width: 0;overflow: hidden;text-align: left;background-color: #f0f8ff;}#sk-container-id-2 div.sk-toggleable__content pre {margin: 0.2em;color: black;border-radius: 0.25em;background-color: #f0f8ff;}#sk-container-id-2 input.sk-toggleable__control:checked~div.sk-toggleable__content {max-height: 200px;max-width: 100%;overflow: auto;}#sk-container-id-2 input.sk-toggleable__control:checked~label.sk-toggleable__label-arrow:before {content: \"▾\";}#sk-container-id-2 div.sk-estimator input.sk-toggleable__control:checked~label.sk-toggleable__label {background-color: #d4ebff;}#sk-container-id-2 div.sk-label input.sk-toggleable__control:checked~label.sk-toggleable__label {background-color: #d4ebff;}#sk-container-id-2 input.sk-hidden--visually {border: 0;clip: rect(1px 1px 1px 1px);clip: rect(1px, 1px, 1px, 1px);height: 1px;margin: -1px;overflow: hidden;padding: 0;position: absolute;width: 1px;}#sk-container-id-2 div.sk-estimator {font-family: monospace;background-color: #f0f8ff;border: 1px dotted black;border-radius: 0.25em;box-sizing: border-box;margin-bottom: 0.5em;}#sk-container-id-2 div.sk-estimator:hover {background-color: #d4ebff;}#sk-container-id-2 div.sk-parallel-item::after {content: \"\";width: 100%;border-bottom: 1px solid gray;flex-grow: 1;}#sk-container-id-2 div.sk-label:hover label.sk-toggleable__label {background-color: #d4ebff;}#sk-container-id-2 div.sk-serial::before {content: \"\";position: absolute;border-left: 1px solid gray;box-sizing: border-box;top: 0;bottom: 0;left: 50%;z-index: 0;}#sk-container-id-2 div.sk-serial {display: flex;flex-direction: column;align-items: center;background-color: white;padding-right: 0.2em;padding-left: 0.2em;position: relative;}#sk-container-id-2 div.sk-item {position: relative;z-index: 1;}#sk-container-id-2 div.sk-parallel {display: flex;align-items: stretch;justify-content: center;background-color: white;position: relative;}#sk-container-id-2 div.sk-item::before, #sk-container-id-2 div.sk-parallel-item::before {content: \"\";position: absolute;border-left: 1px solid gray;box-sizing: border-box;top: 0;bottom: 0;left: 50%;z-index: -1;}#sk-container-id-2 div.sk-parallel-item {display: flex;flex-direction: column;z-index: 1;position: relative;background-color: white;}#sk-container-id-2 div.sk-parallel-item:first-child::after {align-self: flex-end;width: 50%;}#sk-container-id-2 div.sk-parallel-item:last-child::after {align-self: flex-start;width: 50%;}#sk-container-id-2 div.sk-parallel-item:only-child::after {width: 0;}#sk-container-id-2 div.sk-dashed-wrapped {border: 1px dashed gray;margin: 0 0.4em 0.5em 0.4em;box-sizing: border-box;padding-bottom: 0.4em;background-color: white;}#sk-container-id-2 div.sk-label label {font-family: monospace;font-weight: bold;display: inline-block;line-height: 1.2em;}#sk-container-id-2 div.sk-label-container {text-align: center;}#sk-container-id-2 div.sk-container {/* jupyter's `normalize.less` sets `[hidden] { display: none; }` but bootstrap.min.css set `[hidden] { display: none !important; }` so we also need the `!important` here to be able to override the default hidden behavior on the sphinx rendered scikit-learn.org. See: https://github.com/scikit-learn/scikit-learn/issues/21755 */display: inline-block !important;position: relative;}#sk-container-id-2 div.sk-text-repr-fallback {display: none;}</style><div id=\"sk-container-id-2\" class=\"sk-top-container\"><div class=\"sk-text-repr-fallback\"><pre>SVC()</pre><b>In a Jupyter environment, please rerun this cell to show the HTML representation or trust the notebook. <br />On GitHub, the HTML representation is unable to render, please try loading this page with nbviewer.org.</b></div><div class=\"sk-container\" hidden><div class=\"sk-item\"><div class=\"sk-estimator sk-toggleable\"><input class=\"sk-toggleable__control sk-hidden--visually\" id=\"sk-estimator-id-2\" type=\"checkbox\" checked><label for=\"sk-estimator-id-2\" class=\"sk-toggleable__label sk-toggleable__label-arrow\">SVC</label><div class=\"sk-toggleable__content\"><pre>SVC()</pre></div></div></div></div></div>"
            ]
          },
          "metadata": {},
          "execution_count": 28
        }
      ]
    },
    {
      "cell_type": "markdown",
      "source": [
        "### **Preformancen test**"
      ],
      "metadata": {
        "id": "EPdTueWWC4uK"
      }
    },
    {
      "cell_type": "code",
      "source": [
        "Y_pred_NN = [1 if a > 0.5 else 0 for a in model.predict(X_test)]\n",
        "print(\"NN Accuracy:\",accuracy_score(Y_test,Y_pred_NN))\n",
        "print(\"NN f1_score:\",f1_score(Y_test,Y_pred_NN))\n",
        "\n",
        "Y_pred_LSTM = [1 if a > 0.5 else 0 for a in modelR.predict(X_test)]\n",
        "print(\"LSTM Accuracy:\",accuracy_score(Y_test,Y_pred_LSTM))\n",
        "print(\"LSTM f1_score:\",f1_score(Y_test,Y_pred_LSTM))\n",
        "\n",
        "Y_pred_svm = clf.predict(X_test)\n",
        "print(\"SVM Accuracy:\",accuracy_score(Y_test,Y_pred_svm))\n",
        "print(\"SVM f1_score:\",f1_score(Y_test,Y_pred_svm))"
      ],
      "metadata": {
        "colab": {
          "base_uri": "https://localhost:8080/"
        },
        "id": "fyS02Ld1k10p",
        "outputId": "1e7a6752-0adf-4495-94a5-f07a8be10706"
      },
      "execution_count": 29,
      "outputs": [
        {
          "output_type": "stream",
          "name": "stdout",
          "text": [
            "1/1 [==============================] - 0s 70ms/step\n",
            "NN Accuracy: 0.8666666666666667\n",
            "NN f1_score: 0.9090909090909091\n",
            "1/1 [==============================] - 2s 2s/step\n",
            "LSTM Accuracy: 1.0\n",
            "LSTM f1_score: 1.0\n",
            "SVM Accuracy: 0.8\n",
            "SVM f1_score: 0.8421052631578948\n"
          ]
        }
      ]
    },
    {
      "cell_type": "markdown",
      "source": [
        "### **Learning** **Charts**"
      ],
      "metadata": {
        "id": "d_dUCTwen1R4"
      }
    },
    {
      "cell_type": "code",
      "source": [
        "from sklearn.metrics import confusion_matrix, ConfusionMatrixDisplay\n",
        "\n",
        "print(\"Neural Network\")\n",
        "cm = ConfusionMatrixDisplay(confusion_matrix=confusion_matrix(Y_test,Y_pred_NN))\n",
        "cm.plot()"
      ],
      "metadata": {
        "colab": {
          "base_uri": "https://localhost:8080/",
          "height": 490
        },
        "id": "SayJgVtFnz6p",
        "outputId": "d0867462-7fb0-463b-9850-9fddd995c26b"
      },
      "execution_count": 30,
      "outputs": [
        {
          "output_type": "stream",
          "name": "stdout",
          "text": [
            "Neural Network\n"
          ]
        },
        {
          "output_type": "execute_result",
          "data": {
            "text/plain": [
              "<sklearn.metrics._plot.confusion_matrix.ConfusionMatrixDisplay at 0x7caa83a0e980>"
            ]
          },
          "metadata": {},
          "execution_count": 30
        },
        {
          "output_type": "display_data",
          "data": {
            "text/plain": [
              "<Figure size 640x480 with 2 Axes>"
            ],
            "image/png": "[encoded data removed]"
          },
          "metadata": {}
        }
      ]
    },
    {
      "cell_type": "code",
      "source": [
        "print(\"Recurrent Neural Network\")\n",
        "cm = ConfusionMatrixDisplay(confusion_matrix=confusion_matrix(Y_test,Y_pred_LSTM))\n",
        "cm.plot()"
      ],
      "metadata": {
        "colab": {
          "base_uri": "https://localhost:8080/",
          "height": 490
        },
        "id": "Ns1Ugylfv1BX",
        "outputId": "283d27df-5653-464d-bb40-c4ee3e695a4b"
      },
      "execution_count": 31,
      "outputs": [
        {
          "output_type": "stream",
          "name": "stdout",
          "text": [
            "Recurrent Neural Network\n"
          ]
        },
        {
          "output_type": "execute_result",
          "data": {
            "text/plain": [
              "<sklearn.metrics._plot.confusion_matrix.ConfusionMatrixDisplay at 0x7caa7becdff0>"
            ]
          },
          "metadata": {},
          "execution_count": 31
        },
        {
          "output_type": "display_data",
          "data": {
            "text/plain": [
              "<Figure size 640x480 with 2 Axes>"
            ],
            "image/png": "[encoded data removed]"
          },
          "metadata": {}
        }
      ]
    },
    {
      "cell_type": "code",
      "source": [
        "print(\"Support Vector Machine\")\n",
        "cm = ConfusionMatrixDisplay(confusion_matrix=confusion_matrix(Y_test,Y_pred_svm))\n",
        "cm.plot()"
      ],
      "metadata": {
        "colab": {
          "base_uri": "https://localhost:8080/",
          "height": 490
        },
        "id": "NWS56hbGv22e",
        "outputId": "b2b520f5-8770-40e7-8b9c-e1454e8c0368"
      },
      "execution_count": 32,
      "outputs": [
        {
          "output_type": "stream",
          "name": "stdout",
          "text": [
            "Support Vector Machine\n"
          ]
        },
        {
          "output_type": "execute_result",
          "data": {
            "text/plain": [
              "<sklearn.metrics._plot.confusion_matrix.ConfusionMatrixDisplay at 0x7caa7becf7c0>"
            ]
          },
          "metadata": {},
          "execution_count": 32
        },
        {
          "output_type": "display_data",
          "data": {
            "text/plain": [
              "<Figure size 640x480 with 2 Axes>"
            ],
            "image/png": "[encoded data removed]"
          },
          "metadata": {}
        }
      ]
    }
  ]
}